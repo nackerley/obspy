{
 "cells": [
  {
   "cell_type": "code",
   "execution_count": null,
   "metadata": {
    "collapsed": false
   },
   "outputs": [],
   "source": [
    "from obspy.clients.fdsn import Client\n",
    "client = Client(\"iris\")\n",
    "print(client)"
   ]
  },
  {
   "cell_type": "code",
   "execution_count": null,
   "metadata": {
    "collapsed": false
   },
   "outputs": [],
   "source": [
    "client.services"
   ]
  },
  {
   "cell_type": "code",
   "execution_count": null,
   "metadata": {
    "collapsed": false
   },
   "outputs": [],
   "source": [
    "import requests\n",
    "url='https://service.iris.edu/irisws/fedcatalog/1/'\n",
    "r=requests.get(url + \"query\", params={\"net\":\"A*\",\"sta\":\"OK*\",\"cha\":\"*HZ\"}, verify=False)\n"
   ]
  },
  {
   "cell_type": "code",
   "execution_count": null,
   "metadata": {
    "collapsed": false
   },
   "outputs": [],
   "source": [
    "r"
   ]
  },
  {
   "cell_type": "code",
   "execution_count": null,
   "metadata": {
    "collapsed": false
   },
   "outputs": [],
   "source": [
    "print(r.content)"
   ]
  },
  {
   "cell_type": "code",
   "execution_count": null,
   "metadata": {
    "collapsed": false
   },
   "outputs": [],
   "source": [
    "rtext= '''\n",
    "    sta=A*\n",
    "    minlat=34\n",
    "    maxlat=38\n",
    "    cha=?HZ\n",
    "    starttime=2015-01-01\n",
    "    endtime=2016-01-02'''\n",
    "r = requests.post(url+\"query\",data='includeoverlaps=true\\nA* OR* * BHZ 2015-01-01T00:00:00 2016-01-02T00:00:00', verify=False)\n",
    "print(r)\n",
    "print(r.content)"
   ]
  },
  {
   "cell_type": "code",
   "execution_count": 1,
   "metadata": {
    "collapsed": true
   },
   "outputs": [],
   "source": [
    "class RequestLine(object):\n",
    "    def __init__(self, line):\n",
    "        self.line = line.strip()\n",
    "        \n",
    "    def is_empty(self):\n",
    "        return self.line == \"\"\n",
    "\n",
    "    def is_datacenter(self):\n",
    "        return self.line.startswith('DATACENTER=')\n",
    "\n",
    "    def is_param(self):\n",
    "        # true for datacenter, services, and parameter_list\n",
    "        return '=' in self.line\n",
    "\n",
    "    def is_request(self):\n",
    "        return len(self.line.split()) == 6 # and test field values?\n",
    "\n",
    "    def is_service(self):\n",
    "        # parse param_name\n",
    "        return self.is_param() and self.line.split(\"=\")[0].isupper() and not self.is_datacenter()\n",
    "\n",
    "    def __repr__(self):\n",
    "        return self.line\n",
    "\n",
    "    def __str__(self):\n",
    "        return self.line\n"
   ]
  },
  {
   "cell_type": "code",
   "execution_count": 2,
   "metadata": {
    "collapsed": true
   },
   "outputs": [],
   "source": [
    "\n",
    "class ParserState(object):\n",
    "    '''\n",
    "    parser states: PREPARSE, PARAMLIST, EMPTY_LINE, DATACENTER, SERVICE, REQUEST, DONE\n",
    "    PREPARSE -> [PARAMLIST | EMPTY_LINE | DATACENTER]\n",
    "    PARAMLIST -> [PARAMLIST | EMPTY_LINE]\n",
    "    EMPTY_LINE -> [EMPTY_LINE | DATACENTER | DONE]\n",
    "    DATACENTER -> [SERVICE]\n",
    "    SERVICE -> [SERVICE | REQUEST]\n",
    "    REQUEST -> [REQUEST | EMPTY_LINE | DONE ]\n",
    "    '''\n",
    "\n",
    "    @staticmethod\n",
    "    def parse(line, this_response):\n",
    "        '''abstract'''\n",
    "        raise NotImplementedError, \"ParserState.parse()\"\n",
    "\n",
    "    @staticmethod\n",
    "    def next(line):\n",
    "        '''abstract'''\n",
    "        raise NotImplementedError, \"ParserState.next()\"\n",
    "\n",
    "class PreParse(ParserState):\n",
    "    '''Initial ParserState'''\n",
    "\n",
    "    @staticmethod\n",
    "    def parse(line, this_response):\n",
    "        return this_response\n",
    "\n",
    "    @staticmethod\n",
    "    def next(line):\n",
    "        if line.is_empty():\n",
    "            return EmptyItem #EMPTY_LINE\n",
    "        elif line.is_datacenter():\n",
    "            return DatacenterItem #DATACENTER\n",
    "        elif line.is_param():\n",
    "            return ParameterItem #PARAMLIST\n",
    "        else:\n",
    "            return ParserState\n",
    "\n",
    "class ParameterItem(ParserState):\n",
    "    '''handle a parameter'''\n",
    "\n",
    "    @staticmethod\n",
    "    def parse(line, this_response):\n",
    "        '''Parse: param=value'''\n",
    "        this_response.add_common_parameters(line)\n",
    "        return this_response\n",
    "\n",
    "    def next(self, line):\n",
    "        if line.is_empty():\n",
    "            return EmptyItem() #EMPTY_LINE\n",
    "        elif line.is_param():\n",
    "            return self\n",
    "        else:\n",
    "            raise RuntimeError, \"Parameter should be followed by another parameter or an empty line\"\n",
    "\n",
    "class EmptyItem(ParserState):\n",
    "    '''handle an empty line'''\n",
    "\n",
    "    @staticmethod\n",
    "    def parse(line, this_response):\n",
    "        return this_response\n",
    "    \n",
    "    @staticmethod\n",
    "    def next(line):\n",
    "        if line.is_empty():\n",
    "            return EmptyItem #no state change\n",
    "        elif line.is_datacenter():\n",
    "            return DatacenterItem #DATACENTER\n",
    "        else:\n",
    "            raise RuntimeError, \"expected either a DATACENTER or another empty line\"\n",
    "\n",
    "class DatacenterItem(ParserState):\n",
    "    '''handle data center'''\n",
    "\n",
    "    @staticmethod\n",
    "    def parse(line, this_response):\n",
    "        '''Parse: DATACENTER=id,http://url...'''\n",
    "        _, rest = str(line).split('=')\n",
    "        active_id, url = rest.split(',')\n",
    "        this_response = FederatedResponseParser.new_federated_response(active_id)\n",
    "        print(\"new response\", this_response)\n",
    "        this_response.add_service(\"DATACENTER\", url)\n",
    "        return this_response\n",
    "\n",
    "    @staticmethod\n",
    "    def next(line):\n",
    "        if line.is_service():\n",
    "            return ServiceItem\n",
    "        else:\n",
    "            raise RuntimeError, \"DATACENTER line should be followed by a service\"\n",
    "\n",
    "class ServiceItem(ParserState):\n",
    "    '''handle service description'''\n",
    "\n",
    "    @staticmethod\n",
    "    def parse(line, this_response):\n",
    "        '''Parse: SERICENAME=http://service.url/'''\n",
    "        svc_name, url = str(line).split('=')\n",
    "        this_response.add_service(svc_name, url)\n",
    "        return this_response\n",
    "\n",
    "    @staticmethod\n",
    "    def next(line):\n",
    "        if line.is_service():\n",
    "            return ServiceItem\n",
    "        elif line.is_request():\n",
    "            return RequestItem\n",
    "        else:\n",
    "            raise RuntimeError, \"Service desc. should be followed by a request or another service\"\n",
    "\n",
    "class RequestItem(ParserState):\n",
    "    '''handle request lines'''\n",
    "\n",
    "    @staticmethod\n",
    "    def parse(line, this_response):\n",
    "        '''Parse: NT STA LC CHA YYYY-MM-DDThh:mm:ss YY-MM-DDThh:mm:ss'''\n",
    "        this_response.add_request_lines(line)\n",
    "        return this_response\n",
    "\n",
    "    @staticmethod\n",
    "    def next(line):\n",
    "        if line.is_request():\n",
    "            return RequestItem\n",
    "        elif line.is_empty():\n",
    "            return EmptyItem\n",
    "        else:\n",
    "            raise RuntimeError, \"Requests should be followed by another request or an empty line\""
   ]
  },
  {
   "cell_type": "code",
   "execution_count": null,
   "metadata": {
    "collapsed": true
   },
   "outputs": [],
   "source": [
    " "
   ]
  },
  {
   "cell_type": "code",
   "execution_count": 3,
   "metadata": {
    "collapsed": true
   },
   "outputs": [],
   "source": [
    "\n",
    "class FederatedResponse(object):\n",
    "    '''\n",
    "    >>> fed_resp = FederatedResponse(\"IRISDMC\")\n",
    "    >>> fed_resp.add_common_parameters([\"lat=50\",\"lon=20\",\"level=cha\"])\n",
    "    >>> fed_resp.add_service(\"STATIONSERVICE\",\"http://service.iris.edu/fdsnws/station/1/\")\n",
    "    >>> fed_resp.add_request_line(\"AI ORCD -- BHZ 2015-01-01T00:00:00 2016-01-02T00:00:00\")\n",
    "    >>> fed_resp.add_request_line(\"AI ORCD 04 BHZ 2015-01-01T00:00:00 2016-01-02T00:00:00\")\n",
    "    >>> print(fed_resp.request_text(\"STATIONSERVICE\"))\n",
    "\n",
    "    level=cha\n",
    "    AI ORCD -- BHZ 2015-01-01T00:00:00 2016-01-02T00:00:00\n",
    "    AI ORCD 04 BHZ 2015-01-01T00:00:00 2016-01-02T00:00:00\n",
    "    '''\n",
    "\n",
    "    ok_parameters = {\"DATASELECTSERVICE\":[\"longestonly\"],\n",
    "                        \"STATIONSERVICE\":[\"level\"]}\n",
    "\n",
    "    def __init__(self, datacenter_id):\n",
    "        self.datacenter_id = datacenter_id\n",
    "        self.common_parameters = []\n",
    "        self.services = {}\n",
    "        self.request_lines = []\n",
    "\n",
    "    def add_service(self, service_name, service_url):\n",
    "        self.services[service_name] = service_url\n",
    "\n",
    "    def add_common_parameters(self, common_parameters):\n",
    "        if isinstance(common_parameters, str):\n",
    "            self.common_parameters.append(common_parameters)\n",
    "        elif isinstance(common_parameters, RequestLine):\n",
    "            self.request_lines.append(str(common_parameters))\n",
    "        else:\n",
    "            self.common_parameters.extend(common_parameters)\n",
    "\n",
    "    def add_request_lines(self, request_lines):\n",
    "        if isinstance(request_lines, str):\n",
    "            self.request_lines.append(request_lines)\n",
    "        elif isinstance(request_lines, RequestLine):\n",
    "            self.request_lines.append(str(request_lines))\n",
    "        else:\n",
    "            self.request_lines.extend(request_lines)\n",
    "\n",
    "    def add_request_line(self, request_line):\n",
    "        self.request_lines.append(request_line)\n",
    "\n",
    "    def request_text(self, target_service):\n",
    "        reply = self.selected_common_parameters(target_service)\n",
    "        reply.extend(self.request_lines)\n",
    "        return \"\\n\".join(reply)\n",
    "\n",
    "    def selected_common_parameters(self, target_service):\n",
    "        reply = []\n",
    "        for good in FederatedResponse.ok_parameters[target_service]:\n",
    "            reply.extend([c for c in self.common_parameters if c.startswith(good + \"=\")])\n",
    "        return reply\n",
    "    \n",
    "    def __repr__(self):\n",
    "        return self.datacenter_id + \"\\n\" + self.request_text(\"STATIONSERVICE\")"
   ]
  },
  {
   "cell_type": "code",
   "execution_count": 17,
   "metadata": {
    "collapsed": false
   },
   "outputs": [],
   "source": [
    "class FederatedResponseParser(object):\n",
    "    '''Iterate through stream, returning FederatedResponse objects for each datacenter'''\n",
    "    def __init__(self, stream_iterator):\n",
    "        self.stream_iterator = stream_iterator() # stream_iterator feeds us line by line\n",
    "        self.state = PreParse\n",
    "        self.n_datacenters = 0\n",
    "        self.fed_req = None\n",
    "        self.line = None\n",
    "\n",
    "    def __iter__(self):\n",
    "        return self\n",
    "    \n",
    "    def next(self):\n",
    "        any_request_was_processed = False\n",
    "        print(\"A Next...\", self.state)\n",
    "        if self.line is not None:\n",
    "            print(\"returned to NEXT\")\n",
    "            self.fed_req = self.state.parse(self.line, self.fed_req) #left before processing\n",
    "            self.line = None\n",
    "        print(self.state)\n",
    "        for self.line in self.stream_iterator:\n",
    "            self.line = RequestLine(self.line)\n",
    "            self.state = self.state.next(self.line)\n",
    "            print(self.state)\n",
    "            if any_request_was_processed and (self.state is not RequestItem):\n",
    "                return self.fed_req\n",
    "            self.fed_req = self.state.parse(self.line, self.fed_req)\n",
    "            if self.state == RequestItem:\n",
    "                any_request_was_processed = True\n",
    "            \n",
    "        raise StopIteration\n",
    "        #\n",
    "        #if any_request_was_processed:\n",
    "        #    print(\"G we processed at least one request\", self.state)\n",
    "        #    return self.fed_req\n",
    "        #else:\n",
    "        #    print(\"H no requests were processed\", self.state)\n",
    "        #    raise StopIteration\n",
    "            \n",
    "    __next__ = next\n",
    "\n",
    "    @staticmethod\n",
    "    def new_federated_response(ds_id):\n",
    "        return FederatedResponse(ds_id)"
   ]
  },
  {
   "cell_type": "code",
   "execution_count": 25,
   "metadata": {
    "collapsed": false
   },
   "outputs": [
    {
     "name": "stderr",
     "output_type": "stream",
     "text": [
      "/Users/celso/anaconda/lib/python2.7/site-packages/requests/packages/urllib3/connectionpool.py:843: InsecureRequestWarning: Unverified HTTPS request is being made. Adding certificate verification is strongly advised. See: https://urllib3.readthedocs.io/en/latest/advanced-usage.html#ssl-warnings\n",
      "  InsecureRequestWarning)\n"
     ]
    },
    {
     "name": "stdout",
     "output_type": "stream",
     "text": [
      "\n",
      "DATACENTER=IRISDMC,http://ds.iris.edu\n",
      "DATASELECTSERVICE=http://service.iris.edu/fdsnws/dataselect/1/\n",
      "STATIONSERVICE=http://service.iris.edu/fdsnws/station/1/\n",
      "EVENTSERVICE=http://service.iris.edu/fdsnws/event/1/\n",
      "SACPZSERVICE=http://service.iris.edu/irisws/sacpz/1/\n",
      "RESPSERVICE=http://service.iris.edu/irisws/resp/1/\n",
      "AI ORCD -- BHZ 1997-03-01T00:00:00 2599-12-31T23:59:59\n",
      "AI ORCD 02 HHZ 2004-03-20T00:00:00 2599-12-31T23:59:59\n",
      "AI ORCD 04 BHZ 2004-03-20T00:00:00 2599-12-31T23:59:59\n",
      "AI ORCD 06 MHZ 2004-03-20T00:00:00 2599-12-31T23:59:59\n",
      "\n",
      "DATACENTER=ORFEUS,http://www.orfeus-eu.org\n",
      "DATASELECTSERVICE=http://www.orfeus-eu.org/fdsnws/dataselect/1/\n",
      "STATIONSERVICE=http://www.orfeus-eu.org/fdsnws/station/1/\n",
      "AI ORCD -- BHZ 1997-03-01T00:00:00 2599-12-31T23:59:59\n",
      "\n",
      "\n",
      "\n",
      "('A Next...', <class '__main__.PreParse'>)\n",
      "<class '__main__.PreParse'>\n",
      "<class '__main__.EmptyItem'>\n",
      "<class '__main__.DatacenterItem'>\n",
      "('new response', IRISDMC\n",
      ")\n",
      "<class '__main__.ServiceItem'>\n",
      "<class '__main__.ServiceItem'>\n",
      "<class '__main__.ServiceItem'>\n",
      "<class '__main__.ServiceItem'>\n",
      "<class '__main__.ServiceItem'>\n",
      "<class '__main__.RequestItem'>\n",
      "<class '__main__.RequestItem'>\n",
      "<class '__main__.RequestItem'>\n",
      "<class '__main__.RequestItem'>\n",
      "<class '__main__.EmptyItem'>\n",
      "IRISDMC\n",
      "AI ORCD -- BHZ 1997-03-01T00:00:00 2599-12-31T23:59:59\n",
      "AI ORCD 02 HHZ 2004-03-20T00:00:00 2599-12-31T23:59:59\n",
      "AI ORCD 04 BHZ 2004-03-20T00:00:00 2599-12-31T23:59:59\n",
      "AI ORCD 06 MHZ 2004-03-20T00:00:00 2599-12-31T23:59:59\n",
      "('A Next...', <class '__main__.EmptyItem'>)\n",
      "returned to NEXT\n",
      "<class '__main__.EmptyItem'>\n",
      "<class '__main__.DatacenterItem'>\n",
      "('new response', ORFEUS\n",
      ")\n",
      "<class '__main__.ServiceItem'>\n",
      "<class '__main__.ServiceItem'>\n",
      "<class '__main__.RequestItem'>\n",
      "<class '__main__.EmptyItem'>\n",
      "ORFEUS\n",
      "AI ORCD -- BHZ 1997-03-01T00:00:00 2599-12-31T23:59:59\n",
      "('A Next...', <class '__main__.EmptyItem'>)\n",
      "returned to NEXT\n",
      "<class '__main__.EmptyItem'>\n",
      "<class '__main__.EmptyItem'>\n"
     ]
    }
   ],
   "source": [
    "import requests\n",
    "url='https://service.iris.edu/irisws/fedcatalog/1/'\n",
    "r=requests.get(url + \"query\", params={\"net\":\"A*\",\"sta\":\"OR*\",\"cha\":\"*HZ\",\"includeoverlaps\":\"true\"}, verify=False)\n",
    "frp = FederatedResponseParser(r.iter_lines)\n",
    "print(r.content)\n",
    "for n in frp:\n",
    "    print(n)\n",
    "    #print(n.request_text(\"STATIONSERVICE\"))\n"
   ]
  },
  {
   "cell_type": "code",
   "execution_count": 9,
   "metadata": {
    "collapsed": false
   },
   "outputs": [
    {
     "name": "stdout",
     "output_type": "stream",
     "text": [
      "level=cha\n",
      "AI ORCD -- BHZ 2015-01-01T00:00:00 2016-01-02T00:00:00\n",
      "AI ORCD 04 BHZ 2015-01-01T00:00:00 2016-01-02T00:00:00\n"
     ]
    }
   ],
   "source": [
    "fed_resp = FederatedResponse(\"IRISDMC\")\n",
    "fed_resp.add_common_parameters(\"dummy=dummy\")\n",
    "fed_resp.add_common_parameters([\"lat=50\",\"lon=20\",\"level=cha\"])\n",
    "fed_resp.add_service(\"STATIONSERVICE\",\"http://service.iris.edu/fdsnws/station/1/\")\n",
    "fed_resp.add_request_lines(\"AI ORCD -- BHZ 2015-01-01T00:00:00 2016-01-02T00:00:00\")\n",
    "fed_resp.add_request_lines([\"AI ORCD 04 BHZ 2015-01-01T00:00:00 2016-01-02T00:00:00\"])\n",
    "print(fed_resp.request_text(\"STATIONSERVICE\"))"
   ]
  },
  {
   "cell_type": "code",
   "execution_count": null,
   "metadata": {
    "collapsed": false
   },
   "outputs": [],
   "source": [
    "frp = FederatedResponseParser(r.iter_lines)\n",
    "print(\"frp\" , frp.__class__)"
   ]
  },
  {
   "cell_type": "code",
   "execution_count": null,
   "metadata": {
    "collapsed": true
   },
   "outputs": [],
   "source": [
    "?frp"
   ]
  },
  {
   "cell_type": "code",
   "execution_count": null,
   "metadata": {
    "collapsed": false
   },
   "outputs": [],
   "source": [
    "print(r.content)"
   ]
  },
  {
   "cell_type": "code",
   "execution_count": null,
   "metadata": {
    "collapsed": false
   },
   "outputs": [],
   "source": [
    "n.__class__"
   ]
  },
  {
   "cell_type": "code",
   "execution_count": null,
   "metadata": {
    "collapsed": true
   },
   "outputs": [],
   "source": []
  }
 ],
 "metadata": {
  "kernelspec": {
   "display_name": "Python [conda root]",
   "language": "python",
   "name": "conda-root-py"
  },
  "language_info": {
   "codemirror_mode": {
    "name": "ipython",
    "version": 2
   },
   "file_extension": ".py",
   "mimetype": "text/x-python",
   "name": "python",
   "nbconvert_exporter": "python",
   "pygments_lexer": "ipython2",
   "version": "2.7.13"
  }
 },
 "nbformat": 4,
 "nbformat_minor": 1
}
